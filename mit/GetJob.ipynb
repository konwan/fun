{
 "cells": [
  {
   "cell_type": "code",
   "execution_count": 2,
   "metadata": {},
   "outputs": [
    {
     "data": {
      "text/html": [
       "<a href='https://www.ptt.cc/bbs/Soft_Job/M.1543888864.A.305.html' target='_blank' >Soft_Job 12/04 [徵才] app公司徵php後端工程師</a>"
      ],
      "text/plain": [
       "<IPython.core.display.HTML object>"
      ]
     },
     "metadata": {},
     "output_type": "display_data"
    },
    {
     "data": {
      "text/html": [
       "<a href='https://www.ptt.cc/bbs/Soft_Job/M.1543977677.A.12D.html' target='_blank' >Soft_Job 12/05 [徵才] 萬和科技 徵資深軟體 / C++工程師 等職位</a>"
      ],
      "text/plain": [
       "<IPython.core.display.HTML object>"
      ]
     },
     "metadata": {},
     "output_type": "display_data"
    },
    {
     "data": {
      "text/html": [
       "<a href='https://www.ptt.cc/bbs/Soft_Job/M.1543978055.A.CF0.html' target='_blank' >Soft_Job 12/05 Fw: [徵才] 12/15&12/16東京面試會</a>"
      ],
      "text/plain": [
       "<IPython.core.display.HTML object>"
      ]
     },
     "metadata": {},
     "output_type": "display_data"
    },
    {
     "data": {
      "text/html": [
       "<a href='https://www.ptt.cc/bbs/Soft_Job/M.1543978246.A.977.html' target='_blank' >Soft_Job 12/05 [徵才] 香港01 徵 數據 / 軟體工程師 等職位</a>"
      ],
      "text/plain": [
       "<IPython.core.display.HTML object>"
      ]
     },
     "metadata": {},
     "output_type": "display_data"
    },
    {
     "data": {
      "text/html": [
       "<a href='https://www.ptt.cc/bbs/Soft_Job/M.1543979563.A.893.html' target='_blank' >Soft_Job 12/05 [徵才] MVP Fastlane 徵軟體 / iOS工程師 等職位</a>"
      ],
      "text/plain": [
       "<IPython.core.display.HTML object>"
      ]
     },
     "metadata": {},
     "output_type": "display_data"
    },
    {
     "data": {
      "text/html": [
       "<a href='https://www.ptt.cc/bbs/Soft_Job/M.1543981493.A.AE9.html' target='_blank' >Soft_Job 12/05 [徵才] honestbee 徵 後端 /iOS 工程師 等職位</a>"
      ],
      "text/plain": [
       "<IPython.core.display.HTML object>"
      ]
     },
     "metadata": {},
     "output_type": "display_data"
    },
    {
     "data": {
      "text/html": [
       "<a href='https://www.ptt.cc/bbs/Soft_Job/M.1543986637.A.855.html' target='_blank' >Soft_Job 12/05 [徵才] CHANGING.AI徵工程師/資料科學家/實習生</a>"
      ],
      "text/plain": [
       "<IPython.core.display.HTML object>"
      ]
     },
     "metadata": {},
     "output_type": "display_data"
    },
    {
     "data": {
      "text/html": [
       "<a href='https://www.ptt.cc/bbs/Tech_Job/M.1543889041.A.4E6.html' target='_blank' >Tech_Job 12/04 [徵才] app公司徵php後端工程師</a>"
      ],
      "text/plain": [
       "<IPython.core.display.HTML object>"
      ]
     },
     "metadata": {},
     "output_type": "display_data"
    },
    {
     "data": {
      "text/html": [
       "<a href='https://www.ptt.cc/bbs/Tech_Job/M.1543906105.A.465.html' target='_blank' >Tech_Job 12/04 [徵才] 台灣高通2019年實習生招募中！</a>"
      ],
      "text/plain": [
       "<IPython.core.display.HTML object>"
      ]
     },
     "metadata": {},
     "output_type": "display_data"
    },
    {
     "data": {
      "text/html": [
       "<a href='https://www.ptt.cc/bbs/Tech_Job/M.1543907382.A.4D2.html' target='_blank' >Tech_Job 12/04 [徵才] backend engineer-自動化服務開發工程師</a>"
      ],
      "text/plain": [
       "<IPython.core.display.HTML object>"
      ]
     },
     "metadata": {},
     "output_type": "display_data"
    },
    {
     "data": {
      "text/html": [
       "<a href='https://www.ptt.cc/bbs/Tech_Job/M.1543977269.A.AE5.html' target='_blank' >Tech_Job 12/05 [徵才] 12/15&12/16東京面試會</a>"
      ],
      "text/plain": [
       "<IPython.core.display.HTML object>"
      ]
     },
     "metadata": {},
     "output_type": "display_data"
    },
    {
     "data": {
      "text/html": [
       "<a href='https://www.ptt.cc/bbs/Tech_Job/M.1543977722.A.758.html' target='_blank' >Tech_Job 12/05 Fw: [徵才] 萬和科技 徵資深軟體 / C++工程師 等職位</a>"
      ],
      "text/plain": [
       "<IPython.core.display.HTML object>"
      ]
     },
     "metadata": {},
     "output_type": "display_data"
    },
    {
     "data": {
      "text/html": [
       "<a href='https://www.ptt.cc/bbs/Tech_Job/M.1543978614.A.9DB.html' target='_blank' >Tech_Job 12/05 Fw: [徵才] 香港01 徵 數據 / 軟體工程師 等職位</a>"
      ],
      "text/plain": [
       "<IPython.core.display.HTML object>"
      ]
     },
     "metadata": {},
     "output_type": "display_data"
    },
    {
     "data": {
      "text/html": [
       "<a href='https://www.ptt.cc/bbs/Tech_Job/M.1543981511.A.B3D.html' target='_blank' >Tech_Job 12/05 Fw: [徵才] honestbee 徵 後端 /iOS 工程師 等職位</a>"
      ],
      "text/plain": [
       "<IPython.core.display.HTML object>"
      ]
     },
     "metadata": {},
     "output_type": "display_data"
    },
    {
     "data": {
      "text/html": [
       "<a href='https://www.ptt.cc/bbs/Tech_Job/M.1543981556.A.3CF.html' target='_blank' >Tech_Job 12/05 Fw: [徵才] MVP Fastlane 徵軟體 / iOS工程師 等職位</a>"
      ],
      "text/plain": [
       "<IPython.core.display.HTML object>"
      ]
     },
     "metadata": {},
     "output_type": "display_data"
    },
    {
     "data": {
      "text/html": [
       "<a href='https://www.ptt.cc/bbs/WorkinChina/M.1543927126.A.9CD.html' target='_blank' >WorkinChina 12/04 [徵才]愛爾蘭旅舍世界網 上海徵Market Executive</a>"
      ],
      "text/plain": [
       "<IPython.core.display.HTML object>"
      ]
     },
     "metadata": {},
     "output_type": "display_data"
    },
    {
     "data": {
      "text/html": [
       "<a href='https://www.ptt.cc/bbs/Oversea_Job/M.1543897950.A.733.html' target='_blank' >Oversea_Job 12/04 [北美]徵 Battery Material Engineers</a>"
      ],
      "text/plain": [
       "<IPython.core.display.HTML object>"
      ]
     },
     "metadata": {},
     "output_type": "display_data"
    },
    {
     "data": {
      "text/html": [
       "<a href='https://www.ptt.cc/bbs/Oversea_Job/M.1543978102.A.D83.html' target='_blank' >Oversea_Job 12/05 Fw: [徵才] 12/15&12/16東京面試會</a>"
      ],
      "text/plain": [
       "<IPython.core.display.HTML object>"
      ]
     },
     "metadata": {},
     "output_type": "display_data"
    },
    {
     "data": {
      "text/html": [
       "<a href='https://www.ptt.cc/bbs/job/M.1543894221.A.0DD.html' target='_blank' >Job 12/04 [台北] 國立陽明大學高齡中心徵博士後研究</a>"
      ],
      "text/plain": [
       "<IPython.core.display.HTML object>"
      ]
     },
     "metadata": {},
     "output_type": "display_data"
    },
    {
     "data": {
      "text/html": [
       "<a href='https://www.ptt.cc/bbs/job/M.1543896307.A.957.html' target='_blank' >Job 12/04 [台北] 信亞人力徵 會計專員(較近新莊副都心站)</a>"
      ],
      "text/plain": [
       "<IPython.core.display.HTML object>"
      ]
     },
     "metadata": {},
     "output_type": "display_data"
    },
    {
     "data": {
      "text/html": [
       "<a href='https://www.ptt.cc/bbs/job/M.1543908679.A.5C9.html' target='_blank' >Job 12/04 [新北] 古文物鑑定中心 徵 社群行銷企劃</a>"
      ],
      "text/plain": [
       "<IPython.core.display.HTML object>"
      ]
     },
     "metadata": {},
     "output_type": "display_data"
    },
    {
     "data": {
      "text/html": [
       "<a href='https://www.ptt.cc/bbs/job/M.1543909028.A.551.html' target='_blank' >Job 12/04 [台北] 數位文創公司徵行政專員</a>"
      ],
      "text/plain": [
       "<IPython.core.display.HTML object>"
      ]
     },
     "metadata": {},
     "output_type": "display_data"
    },
    {
     "data": {
      "text/html": [
       "<a href='https://www.ptt.cc/bbs/job/M.1543911700.A.076.html' target='_blank' >Job 12/04 [台北]中央研究院資訊所 徵研究助理/程式設計師</a>"
      ],
      "text/plain": [
       "<IPython.core.display.HTML object>"
      ]
     },
     "metadata": {},
     "output_type": "display_data"
    },
    {
     "data": {
      "text/html": [
       "<a href='https://www.ptt.cc/bbs/job/M.1543922195.A.DC5.html' target='_blank' >Job 12/04 [台北] 立樂高園徵日文招募助理</a>"
      ],
      "text/plain": [
       "<IPython.core.display.HTML object>"
      ]
     },
     "metadata": {},
     "output_type": "display_data"
    },
    {
     "data": {
      "text/html": [
       "<a href='https://www.ptt.cc/bbs/job/M.1543924086.A.3FF.html' target='_blank' >Job 12/04 [台北] 立樂高園徵日文招募顧問</a>"
      ],
      "text/plain": [
       "<IPython.core.display.HTML object>"
      ]
     },
     "metadata": {},
     "output_type": "display_data"
    },
    {
     "data": {
      "text/html": [
       "<a href='https://www.ptt.cc/bbs/job/M.1543924680.A.D25.html' target='_blank' >Job 12/04 [台北] 立樂高園徵日文業務</a>"
      ],
      "text/plain": [
       "<IPython.core.display.HTML object>"
      ]
     },
     "metadata": {},
     "output_type": "display_data"
    },
    {
     "data": {
      "text/html": [
       "<a href='https://www.ptt.cc/bbs/job/M.1543975440.A.415.html' target='_blank' >Job 12/05 [台北] 米力物流 找尋新夥伴(業務)</a>"
      ],
      "text/plain": [
       "<IPython.core.display.HTML object>"
      ]
     },
     "metadata": {},
     "output_type": "display_data"
    },
    {
     "data": {
      "text/html": [
       "<a href='https://www.ptt.cc/bbs/TaiwanJobs/M.1543996135.A.004.html' target='_blank' >TaiwanJobs 12/05 [情報] 徵五金行送貨員（高雄）</a>"
      ],
      "text/plain": [
       "<IPython.core.display.HTML object>"
      ]
     },
     "metadata": {},
     "output_type": "display_data"
    }
   ],
   "source": [
    "from selenium import webdriver\n",
    "from selenium.webdriver.common.desired_capabilities import DesiredCapabilities\n",
    "from selenium.webdriver.support.select import Select\n",
    "from bs4 import BeautifulSoup\n",
    "import pandas as pd\n",
    "import numpy as np\n",
    "import jieba\n",
    "from IPython.core.display import display, HTML\n",
    "from datetime import datetime\n",
    "import time\n",
    "from datetime import date, timedelta\n",
    "from datetime import datetime\n",
    "import re\n",
    "\n",
    "\n",
    "class Ptt(object):\n",
    "    fp = \"/Users/cindy/Desktop/pg/mit/fun\"\n",
    "    dp = \"/Users/cindy/Desktop/pg/driver/chromedriver\"\n",
    "    dm = \"https://www.ptt.cc\"\n",
    "    \n",
    "    def __init__(self, board, updatedate, pages): \n",
    "        self.lastdt = ( date.today() - timedelta(updatedate))#.strftime(\"%m/%d\").lstrip(\"0\")\n",
    "        self.brd = board\n",
    "        self.lastidx = 0\n",
    "        self.data = []\n",
    "        self.page_num = pages\n",
    "        self.webres = None\n",
    "\n",
    "        \n",
    "    def start(self):    \n",
    "        self.driver = webdriver.Chrome(self.dp)\n",
    "        self.url = \"{}/bbs/{}/index{}.html\".format(self.dm, self.brd, self.lastidx)\n",
    "       \n",
    "    def end(self):\n",
    "        self.driver.close()\n",
    "        self.driver.quit()\n",
    "    \n",
    "    def getIndex(self):\n",
    "        self.driver.get(self.url)\n",
    "        self.webres = BeautifulSoup(self.driver.page_source, \"lxml\")\n",
    "        # over 18 check\n",
    "        btns18 = self.webres.find_all(\"div\", class_ = \"over18-button-container\")\n",
    "        if len(btns18) != 0:\n",
    "            self.driver.find_element_by_name(\"yes\").click()\n",
    "            self.webres = BeautifulSoup(self.driver.page_source, \"lxml\")\n",
    "        self.lastidx =  1 + int(self.webres.find_all(\"a\", class_ = \"btn wide\")[1][\"href\"].replace(\"index\",\"\").replace(\".html\",\"\").split(\"/\")[3])   \n",
    " \n",
    "    def getposts(self):\n",
    "        self.start()\n",
    "        self.getIndex() \n",
    "        \n",
    "        for i in range(self.lastidx-self.page_num+1, self.lastidx+1): \n",
    "            self.url = \"{}/bbs/{}/index{}.html\".format(self.dm, self.brd, i)  \n",
    "            self.driver.get(self.url)\n",
    "            self.webres = BeautifulSoup(self.driver.page_source, \"lxml\")\n",
    "            \n",
    "            # over 18 check\n",
    "            btns18 = self.webres.find_all(\"div\", class_ = \"over18-button-container\")\n",
    "            if len(btns18) != 0:\n",
    "                self.driver.find_element_by_name(\"yes\").click()\n",
    "                self.webres = BeautifulSoup(self.driver.page_source, \"lxml\")\n",
    "            \n",
    "            posts = self.webres.find_all(\"div\", class_ = \"r-ent\")\n",
    "            for p in posts:\n",
    "                title = p.find(\"div\", class_=\"title\").getText().strip() \n",
    "                if title is not None:\n",
    "                    dt = p.find(\"div\", class_ = \"date\").text.strip() \n",
    "                    ardt = datetime.strptime(\"2018/{}\".format(dt), \"%Y/%m/%d\").date()\n",
    "\n",
    "                    if self.lastdt <= ardt:\n",
    "                        keywords = [\"徵才\",\"徵\",\"找人\",\"求才\",\"找\",\"求\"]\n",
    "                        words = [j for j in jieba.cut_for_search(re.sub('[\\W\\d_]+', ' ', title)) if j in keywords]\n",
    "                        if len(words) > 0 :          \n",
    "                            url = p.find(\"a\")[\"href\"]\n",
    "                            athr = p.find(\"div\", class_ = \"author\").getText()\n",
    "                            tmpcmt = p.find(\"div\", class_ = \"nrec\").text\n",
    "                            cmt = int(tmpcmt) if tmpcmt.isdigit() else np.nan\n",
    "                            self.data.append([self.brd, dt, cmt, title, url])\n",
    "                            display(HTML(\"<a href='{}{}' target='_blank' >{} {} {}</a>\".format(self.dm, url, self.brd, dt, title))) \n",
    "        self.end()\n",
    "\n",
    "jobs = [\"Soft_Job\", \"Tech_Job\",\"WorkinChina\",\"Oversea_Job\",\"Job\",\"TaiwanJobs\"]\n",
    "alljob = []\n",
    "for i in jobs:\n",
    "    p = Ptt(i, 1, 5)\n",
    "    p.getposts()\n",
    "    alljob.append(p.data)\n",
    "from functools import reduce\n",
    "alljob = reduce(lambda x,y: x+y, alljob)\n",
    "\n",
    "col = ['brd','date','cmt','title','url']\n",
    "result = pd.DataFrame(alljob, columns=col)\n"
   ]
  },
  {
   "cell_type": "code",
   "execution_count": 3,
   "metadata": {},
   "outputs": [
    {
     "name": "stdout",
     "output_type": "stream",
     "text": [
      "     cnt\n",
      "徵才    17\n",
      "師     12\n",
      "工程    12\n",
      "等      8\n",
      "職位     8\n",
      "台北     8\n",
      "Fw     6\n",
      "iOS    4\n",
      "軟體     4\n"
     ]
    }
   ],
   "source": [
    "import re\n",
    "stopwords = ['Re','DELETE',' ', '沒', '才', '第', '的', '次', '了', '和', '是', '就', '都', '而', '及', '與', '一個', '沒有', '我們', '你們', '妳們', '他們', '她們', '是否', '一', '不', '在', '人', '有', '為', '以', '於', '上', '他', '後', '之', '來', '因', '下', '可', '到', '由', '這', '也', '此', '但', '並', '個', '其', '已', '無', '小', '我', '們', '起', '最', '再', '今', '去', '好', '只', '又', '或', '很', '亦', '某', '把', '那', '你', '乃', '它', '吧', '被', '比', '別', '趁', '當', '從', '到', '得', '打', '凡', '兒', '爾', '該', '各', '給', '跟', '何', '還', '即', '幾', '既', '看', '據', '距', '靠', '啦', '了', '另', '麼', '每', '們', '嘛', '拿', '哪', '那', '您', '憑', '且', '卻', '讓', '仍', '啥', '如', '若', '使', '誰', '雖', '隨', '同', '所', '她', '哇', '嗡', '往', '哪', '些', '向', '沿', '喲', '用', '於', '咱', '則', '怎', '曾', '至', '致', '著', '諸', '自']\n",
    "words = [j for i in result['title'] for j in jieba.cut_for_search(re.sub('[\\W\\d_]+', ' ', i)) if j not in stopwords]\n",
    "wdf = pd.DataFrame(words, columns=['word'])\n",
    "r = wdf['word'].value_counts().to_frame(name='cnt')\n",
    "print(r[1:10])\n",
    "from PIL import Image\n",
    "word_space = ' '.join(words) \n",
    "img = np.array(Image.open('/Users/cindy/Downloads/heart.png'))"
   ]
  },
  {
   "cell_type": "code",
   "execution_count": 47,
   "metadata": {},
   "outputs": [
    {
     "data": {
      "text/plain": [
       "(-0.5, 899.5, 899.5, -0.5)"
      ]
     },
     "execution_count": 47,
     "metadata": {},
     "output_type": "execute_result"
    },
    {
     "data": {
      "image/png": "[encoded data removed]",
      "text/plain": [
       "<Figure size 432x288 with 1 Axes>"
      ]
     },
     "metadata": {},
     "output_type": "display_data"
    }
   ],
   "source": [
    "from wordcloud import WordCloud, STOPWORDS, ImageColorGenerator\n",
    "# Create and generate a word cloud image:\n",
    "\n",
    "# wordcloud = WordCloud().generate(word_space)\n",
    "my_wordcloud = WordCloud(\n",
    "    background_color='white', #设置背景颜色\n",
    "    scale=1.5,\n",
    "    mask=img,  #背景图片\n",
    "    max_words = 20, #设置最大显示的词数\n",
    "#     stopwords = STOPWORDS, #设置停用词\n",
    "    #设置字体格式，字体格式 .ttf文件需自己网上下载，最好将名字改为英文，中文名路径加载会出现问题。\n",
    "    font_path = '/Users/cindy/Downloads/simkai.ttf', \n",
    "    max_font_size = 100, #设置字体最大值\n",
    "    random_state=45, #设置随机生成状态，即多少种配色方案\n",
    "    ).generate(word_space)\n",
    "\n",
    "# import matplotlib.pyplot as plt\n",
    "plt.imshow(my_wordcloud, interpolation='bilinear')\n",
    "plt.axis(\"off\")\n",
    "my_wordcloud.to_file('/Users/cindy/Downloads/res.jpg')\n"
   ]
  },
  {
   "cell_type": "code",
   "execution_count": 222,
   "metadata": {},
   "outputs": [
    {
     "name": "stdout",
     "output_type": "stream",
     "text": [
      "目前正在爬取 137698833067234 資料視覺化 / Data Visualization 第1頁\n",
      "目前正在爬取 1703467299932229 Data Man 的資料視覺化筆記 第1頁\n"
     ]
    }
   ],
   "source": [
    "import requests\n",
    "import pandas as pd \n",
    "from dateutil.parser import parse\n",
    "\n",
    "\n",
    "# 在Facebook Graph API Exploer取得token\n",
    "\n",
    "token = 'EAACEdEose0cBAFuvuZAX3ZBP2KyZBHxXpU3athgfffKLkbebFJDXciLlSHNXhbwbCZBFwBITpE6iFw5MEhzRMpOZAb1HUfOTByZB6l0s7ELTZCB5RlwiloPWaA6WzhRBVYFXyZC3osB1fu5XqyLo3tUy1rnuIZC3f4wUGoZAh1oYMDS6N0HIWne75NAZBDJaZCVLIgySKHA5WMlgPdVuzGeozuF2hGZBIVL2qYx4lrUDqx0tSawZDZD'\n",
    "# 在Facebook Graph API Exploer取得粉絲專頁的id與名稱，並將其包成字典dic\n",
    "\n",
    "fanpages = {'137698833067234':'資料視覺化 / Data Visualization',\n",
    "           '1703467299932229':'Data Man 的資料視覺化筆記'} \n",
    "limit = 1\n",
    "# 建立一個空的list        \n",
    "\n",
    "information_list = []\n",
    "\n",
    "# 使用for迴圈依序讀取粉絲頁的資訊，並使用format將id與token傳入{}裡\n",
    "\n",
    "for fanpage_id in fanpages:\n",
    "    res = requests.get('https://graph.facebook.com/v2.12/{}/posts?limit=100&access_token={}'.format(fanpage_id, token))\n",
    "\n",
    "    # API最多一次呼叫100筆資料，因此使用while迴圈去翻頁取得所有的資料\n",
    "\n",
    "    pages = 1  # 初始化爬取頁數 \n",
    "    while True: \n",
    "        if pages <= limit :\n",
    "            print('目前正在爬取 {} {} 第{}頁'.format(fanpage_id, fanpages[fanpage_id], pages))\n",
    "            for information in res.json()['data']:\n",
    "                if 'message' in information:\n",
    "                    information_list.append([fanpages[fanpage_id], information['message'], parse(information['created_time']).date()])\n",
    "\n",
    "            # 若有下一頁，則繼續爬取，否則跳出While迴圈\n",
    "\n",
    "            if 'next' in res.json()['paging']:\n",
    "                res = requests.get(res.json()['paging']['next'])\n",
    "                pages += 1\n",
    "            else:\n",
    "                print('{} {} 已爬取完成! \\n'.format(fanpage_id, fanpages[fanpage_id]))\n",
    "                break\n",
    "        else :\n",
    "            break\n",
    "\n",
    "# 最後將list轉換成dataframe，並輸出成Excel檔\n",
    "# information_df = pd.DataFrame(information_list, columns=['粉絲專頁', '發文內容', '發文時間']) \n",
    "# print(information_df[0:3])\n",
    "# information_df.to_excel('Data Visualization Information.xlsx', index=False) "
   ]
  }
 ],
 "metadata": {
  "kernelspec": {
   "display_name": "Python 3",
   "language": "python",
   "name": "python3"
  },
  "language_info": {
   "codemirror_mode": {
    "name": "ipython",
    "version": 3
   },
   "file_extension": ".py",
   "mimetype": "text/x-python",
   "name": "python",
   "nbconvert_exporter": "python",
   "pygments_lexer": "ipython3",
   "version": "3.6.4"
  }
 },
 "nbformat": 4,
 "nbformat_minor": 2
}
