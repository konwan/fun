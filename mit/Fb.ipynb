{
 "cells": [
  {
   "cell_type": "code",
   "execution_count": 34,
   "metadata": {},
   "outputs": [
    {
     "name": "stdout",
     "output_type": "stream",
     "text": [
      "{'previous': 'https://graph.facebook.com/v2.5/1759525920983198/posts?fields=created_time,message&since=1523326626&access_token=EAACEdEose0cBADNsqNOL1BKKoHIpdOOkYhWSjbND1RtR4vYJkMsttHqCQlWYYf5B9fMf6nkIeOZCfFsXEprp09Jh79Yp4EjfmInZBDvkCdUcQlaEd7lEyPr0iZCp378di3ZAnXjhFQZAWPXjd5JZAgktbOOZA3FZBJ0utBQvneodQXmJBymLYcZCDidhCcNJaZBoQZD&limit=25&__paging_token=enc_AdAnAXZB3vXMbUrcc1IccggFZAHFYP3lwu9C8SpMjyDLuhXPtp08Up8E1F9KPNmDfo1Q2FZBbrqXnus8QueXCoWTwNKEw9i00TvElLD0v7AQEQ9WQZDZD&__previous=1', 'next': 'https://graph.facebook.com/v2.5/1759525920983198/posts?fields=created_time,message&access_token=EAACEdEose0cBADNsqNOL1BKKoHIpdOOkYhWSjbND1RtR4vYJkMsttHqCQlWYYf5B9fMf6nkIeOZCfFsXEprp09Jh79Yp4EjfmInZBDvkCdUcQlaEd7lEyPr0iZCp378di3ZAnXjhFQZAWPXjd5JZAgktbOOZA3FZBJ0utBQvneodQXmJBymLYcZCDidhCcNJaZBoQZD&limit=25&until=1511143780&__paging_token=enc_AdD6KLgZB8O2nRYwBRQcoCY9HcXUDLwzyZBZAu9gme5yhZCvdKEOt7UGUvDNPm2TjhhGvZAn1yoT2sFS9G03ZBHZCqLexPwEkKrBy35VlmQZBoSGpqw4uAZDZD'}\n",
      "https://graph.facebook.com/v2.5/1759525920983198/posts?fields=created_time,message&access_token=EAACEdEose0cBADNsqNOL1BKKoHIpdOOkYhWSjbND1RtR4vYJkMsttHqCQlWYYf5B9fMf6nkIeOZCfFsXEprp09Jh79Yp4EjfmInZBDvkCdUcQlaEd7lEyPr0iZCp378di3ZAnXjhFQZAWPXjd5JZAgktbOOZA3FZBJ0utBQvneodQXmJBymLYcZCDidhCcNJaZBoQZD&limit=25&until=1511143780&__paging_token=enc_AdD6KLgZB8O2nRYwBRQcoCY9HcXUDLwzyZBZAu9gme5yhZCvdKEOt7UGUvDNPm2TjhhGvZAn1yoT2sFS9G03ZBHZCqLexPwEkKrBy35VlmQZBoSGpqw4uAZDZD\n",
      "https://graph.facebook.com/v2.5/1759525920983198/posts?fields=created_time,message&since=1523326626&access_token=EAACEdEose0cBADNsqNOL1BKKoHIpdOOkYhWSjbND1RtR4vYJkMsttHqCQlWYYf5B9fMf6nkIeOZCfFsXEprp09Jh79Yp4EjfmInZBDvkCdUcQlaEd7lEyPr0iZCp378di3ZAnXjhFQZAWPXjd5JZAgktbOOZA3FZBJ0utBQvneodQXmJBymLYcZCDidhCcNJaZBoQZD&limit=25&__paging_token=enc_AdAnAXZB3vXMbUrcc1IccggFZAHFYP3lwu9C8SpMjyDLuhXPtp08Up8E1F9KPNmDfo1Q2FZBbrqXnus8QueXCoWTwNKEw9i00TvElLD0v7AQEQ9WQZDZD&__previous=1\n",
      "共有 25 篇PO文\n"
     ]
    }
   ],
   "source": [
    "import facebook\n",
    "\n",
    "\n",
    "token = \"EAACEdEose0cBADNsqNOL1BKKoHIpdOOkYhWSjbND1RtR4vYJkMsttHqCQlWYYf5B9fMf6nkIeOZCfFsXEprp09Jh79Yp4EjfmInZBDvkCdUcQlaEd7lEyPr0iZCp378di3ZAnXjhFQZAWPXjd5JZAgktbOOZA3FZBJ0utBQvneodQXmJBymLYcZCDidhCcNJaZBoQZD\"\n",
    "graph = facebook.GraphAPI(access_token = token) \n",
    "fanpage_info = graph.get_object('myntpc', field = 'id')  \n",
    "#套件會用你的token連接到facebook\n",
    "#指定拿pyladies.tw 這個粉專的id和讚數\n",
    "# {'name': '我的新北市', 'id': '218558484828205'}\n",
    "\n",
    "posts = graph.get_connections(id = \"1759525920983198\", connection_name=\"posts\",fields=\"created_time,message\")\n",
    "print(posts[\"paging\"])   #這行會印出一大堆貼文的資料\n",
    "print(posts[\"paging\"][\"next\"])\n",
    "print(posts[\"paging\"][\"previous\"])\n",
    "print (\"共有\", len(posts[\"data\"]), \"篇PO文\")"
   ]
  },
  {
   "cell_type": "code",
   "execution_count": 16,
   "metadata": {},
   "outputs": [
    {
     "ename": "KeyError",
     "evalue": "'data'",
     "output_type": "error",
     "traceback": [
      "\u001b[0;31m---------------------------------------------------------------------------\u001b[0m",
      "\u001b[0;31mKeyError\u001b[0m                                  Traceback (most recent call last)",
      "\u001b[0;32m<ipython-input-16-7c3eeda77b10>\u001b[0m in \u001b[0;36m<module>\u001b[0;34m()\u001b[0m\n\u001b[1;32m      3\u001b[0m \u001b[0;31m# 用來保存每篇文章的資料\u001b[0m\u001b[0;34m\u001b[0m\u001b[0;34m\u001b[0m\u001b[0m\n\u001b[1;32m      4\u001b[0m \u001b[0mposts\u001b[0m \u001b[0;34m=\u001b[0m \u001b[0;34m[\u001b[0m\u001b[0;34m]\u001b[0m\u001b[0;34m\u001b[0m\u001b[0m\n\u001b[0;32m----> 5\u001b[0;31m \u001b[0;32mfor\u001b[0m \u001b[0mpost\u001b[0m \u001b[0;32min\u001b[0m \u001b[0mres\u001b[0m\u001b[0;34m.\u001b[0m\u001b[0mjson\u001b[0m\u001b[0;34m(\u001b[0m\u001b[0;34m)\u001b[0m\u001b[0;34m[\u001b[0m\u001b[0;34m'data'\u001b[0m\u001b[0;34m]\u001b[0m\u001b[0;34m:\u001b[0m\u001b[0;34m\u001b[0m\u001b[0m\n\u001b[0m\u001b[1;32m      6\u001b[0m     \u001b[0;31m# 透過文章的id來取得 留言數、按讚數、分享數\u001b[0m\u001b[0;34m\u001b[0m\u001b[0;34m\u001b[0m\u001b[0m\n\u001b[1;32m      7\u001b[0m     p_res = requests.get(\n",
      "\u001b[0;31mKeyError\u001b[0m: 'data'"
     ]
    }
   ],
   "source": [
    "# 要搜集的資料\n",
    "columns = ['發文時間', '文章內容', '分享內容', '留言數', '按讚數', '分享數']\n",
    "# 用來保存每篇文章的資料\n",
    "posts = []\n",
    "for post in res.json()['data']:\n",
    "    # 透過文章的id來取得 留言數、按讚數、分享數\n",
    "    p_res = requests.get(\n",
    "        'https://graph.facebook.com/v2.12/{}?'.format(post['id']) +\n",
    "        'fields=comments.limit(0).summary(true),likes.limit(0).summary(true), shares&' +\n",
    "        'access_token={}'.format(token))\n",
    "    # 留言數\n",
    "    if 'comments' in p_res.json():\n",
    "        comments = p_res.json()['comments']['summary'].get('total_count')\n",
    "    else:\n",
    "        comments = 0\n",
    "    # 按讚數\n",
    "    if 'likes' in p_res.json():\n",
    "        likes = p_res.json()['likes']['summary'].get('total_count')\n",
    "    else:\n",
    "        likes = 0\n",
    "    # 分享數\n",
    "    if 'shares' in p_res.json():\n",
    "        shares = p_res.json()['shares'].get('count')\n",
    "    else:\n",
    "        shares = 0\n",
    "    # 將資訊保存\n",
    "    posts.append([parse(post['created_time']).date(),\n",
    "                  post.get('message'),\n",
    "                  post.get('story'),\n",
    "                  comments,\n",
    "                  likes,\n",
    "                  shares])\n",
    "# 使用 pandas 將資料輸出\n",
    "df = pd.DataFrame(posts, columns=columns)\n",
    "df.to_csv('fb.csv')\n",
    "\n",
    "\n",
    "# posts = graph.get_connections(id = '218558484828205', connection_name = 'posts', summary = True)\n",
    "# print(posts['data'])   #這行會印出一大堆貼文的資料\n",
    "# print (\"共有\", len(posts['data']), \"篇PO文\")"
   ]
  },
  {
   "cell_type": "code",
   "execution_count": 23,
   "metadata": {},
   "outputs": [
    {
     "name": "stdout",
     "output_type": "stream",
     "text": [
      "<Response [200]>\n"
     ]
    }
   ],
   "source": [
    "import requests\n",
    "import pandas as pd\n",
    "from bs4 import BeautifulSoup\n",
    "from dateutil.parser import parse\n",
    "\n",
    "group_id = '218558484828205'\n",
    "token = \"EAACEdEose0cBABS3APAcha7NJqkKgogkUhXZCtocJZBywTUh6ZCfZAbRtYZA4ZAoFtuQRQI2uceX8keL3tNqZCJjV9r9ojuX53w8YOmnVWZAe8H3RxbSOfcWgZBPbj90nJDolS6v108caLFvjAw8WcYCIzaeztg24kW1GM30LvKEcYSyBMbPsxphWlQiZAE6BpAREZD\"\n",
    "\n",
    "#獲取API內容\n",
    "\n",
    "res = requests.get('https://graph.facebook.com/v2.12/{}/posts?access_token={}'.format(group_id, token))\n",
    "\n",
    "print(res)\n",
    "\n",
    "# posts = []\n",
    "# for post in res.json()['data']:\n",
    "#     posts.append([parse(post.get('updated_time')), post.get('id'), post.get('message'), post.get('story')])\n",
    "\n",
    "# #輸出內容\n",
    "\n",
    "# df = pd.DataFrame(posts)\n",
    "# df.columns = ['貼文時間', '貼文ID', '貼文內容', '分享內容']\n",
    "# df.to_csv('台灣資料科學同好交流區.csv', index=False)    "
   ]
  },
  {
   "cell_type": "code",
   "execution_count": 10,
   "metadata": {},
   "outputs": [
    {
     "name": "stdout",
     "output_type": "stream",
     "text": [
      "<Response [400]>\n"
     ]
    }
   ],
   "source": [
    "print(res)"
   ]
  },
  {
   "cell_type": "code",
   "execution_count": 1,
   "metadata": {},
   "outputs": [],
   "source": [
    "import os.path\n",
    "from pdfminer.pdfparser import PDFParser,PDFDocument\n",
    "from pdfminer.pdfinterp import PDFResourceManager, PDFPageInterpreter\n",
    "from pdfminer.converter import PDFPageAggregator\n",
    "from pdfminer.layout import LTTextBoxHorizontal,LAParams\n",
    "from pdfminer.pdfinterp import PDFTextExtractionNotAllowed\n",
    "\n"
   ]
  },
  {
   "cell_type": "code",
   "execution_count": null,
   "metadata": {},
   "outputs": [],
   "source": []
  }
 ],
 "metadata": {
  "kernelspec": {
   "display_name": "Python 3",
   "language": "python",
   "name": "python3"
  },
  "language_info": {
   "codemirror_mode": {
    "name": "ipython",
    "version": 3
   },
   "file_extension": ".py",
   "mimetype": "text/x-python",
   "name": "python",
   "nbconvert_exporter": "python",
   "pygments_lexer": "ipython3",
   "version": "3.6.4"
  }
 },
 "nbformat": 4,
 "nbformat_minor": 2
}
